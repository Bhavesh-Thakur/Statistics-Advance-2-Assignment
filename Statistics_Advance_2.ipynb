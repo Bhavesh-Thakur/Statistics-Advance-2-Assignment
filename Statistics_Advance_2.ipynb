{
  "nbformat": 4,
  "nbformat_minor": 0,
  "metadata": {
    "colab": {
      "provenance": []
    },
    "kernelspec": {
      "name": "python3",
      "display_name": "Python 3"
    },
    "language_info": {
      "name": "python"
    }
  },
  "cells": [
    {
      "cell_type": "markdown",
      "source": [
        "# Question1: Define the z-statistic and explain its relationship to the standard normal distribution. How is the statistic used in hypothesis testing?\n",
        "\n",
        "### Z-Statistic and its Relationship to the Standard Normal Distribution\n",
        "\n",
        "#### **Definition of Z-Statistic:**\n",
        "The **z-statistic** (or z-score) is a measure that describes how many standard deviations a data point is from the mean of a distribution. It is used when the population standard deviation is known and the sample size is large, typically greater than 30. The formula for the z-statistic is:\n",
        "\n",
        "$$\n",
        "z = \\frac{X - \\mu}{\\sigma}\n",
        "$$\n",
        "\n",
        "Where:\n",
        "- ( X \\) is the observed value (or sample mean),\n",
        "- ( \\mu \\) is the population mean,\n",
        "- ( \\sigma \\) is the population standard deviation.\n",
        "\n",
        "#### **Relationship to the Standard Normal Distribution:**\n",
        "The z-statistic follows a **standard normal distribution**, which is a normal distribution with a mean of 0 and a standard deviation of 1. This distribution is also called the **Z-distribution**. When data are transformed using the z-statistic formula, the resulting z-scores can be interpreted using this standard normal distribution.\n",
        "\n",
        "In a standard normal distribution:\n",
        "- About 68% of the data lies within 1 standard deviation of the mean (z = ±1),\n",
        "- About 95% of the data lies within 2 standard deviations of the mean (z = ±2),\n",
        "- About 99.7% of the data lies within 3 standard deviations of the mean (z = ±3).\n",
        "\n",
        "#### **Z-Statistic in Hypothesis Testing:**\n",
        "The z-statistic is used in **hypothesis testing** to determine whether to accept or reject the null hypothesis. It allows for comparison between an observed sample mean and a hypothesized population mean.\n",
        "\n",
        "1. **Steps in Hypothesis Testing Using the Z-Statistic:**\n",
        "   - **State the hypotheses**:\n",
        "     - Null hypothesis (\\( H_0 \\)): Assumes no effect or no difference.\n",
        "     - Alternative hypothesis (\\( H_1 \\)): Assumes an effect or difference.\n",
        "   \n",
        "   - **Calculate the z-statistic**:\n",
        "     Use the formula\n",
        "$$\n",
        "     ( z = \\frac{X - \\mu}{\\sigma / \\sqrt{n}} )\n",
        "$$\n",
        " where \\( n \\) is the sample size.\n",
        "\n",
        "   - **Find the p-value**:\n",
        "     The p-value represents the probability of observing the data if the null hypothesis is true. This is determined using the z-statistic and the standard normal distribution.\n",
        "\n",
        "   - **Compare p-value to the significance level (\\( \\alpha \\))**:\n",
        "     If the p-value is less than the significance level (e.g., \\( \\alpha = 0.05 \\)), reject the null hypothesis.\n",
        "\n",
        "2. **Example:**\n",
        "  Suppose a company claims that the average salary of its employees is 50,000. You collect a sample of 100 employees and find a sample mean salary of 52,000, with a known population standard deviation of 5,000, with a known population standard deviation of 5,000. To test whether the average salary is significantly different from the claimed amount, you would calculate the z-statistic:\n",
        "\n",
        "$$\n",
        "   z = \\frac{52,000 - 50,000}{5,000 / \\sqrt{100}} = 4\n",
        "$$\n",
        "\n",
        "   Using the z-distribution, a z-score of 4 corresponds to a very low p-value (much less than 0.05), so you would reject the null hypothesis, concluding that the average salary is significantly different from \\$50,000.\n",
        "\n",
        "#### **Conclusion:**\n",
        "The z-statistic is a fundamental tool in hypothesis testing when the population standard deviation is known. It standardizes data, allowing comparison against the standard normal distribution, and helps make decisions about the validity of hypotheses based on sample data.\n"
      ],
      "metadata": {
        "id": "616Hq2PojI5M"
      }
    },
    {
      "cell_type": "markdown",
      "source": [
        "# **Question2 : What is a p-value, and how is it used in hypothesis testing? What does it mean if the p-value is very small (e.g., 0.01)?**\n",
        "\n",
        "\n",
        "### Definition of p-value:\n",
        "A **p-value** is the probability of observing a sample statistic as extreme as, or more extreme than, the one observed under the assumption that the null hypothesis is true. It quantifies the evidence against the null hypothesis.\n",
        "\n",
        "### Interpretation:\n",
        "- If the p-value is **small** (typically less than a significance level, like 0.05), it indicates **strong evidence against** the null hypothesis.\n",
        "- If the p-value is **large** (greater than the significance level), it suggests there is **weak evidence** against the null hypothesis.\n",
        "\n",
        "### How it is used in hypothesis testing:\n",
        "1. **State the null hypothesis (H₀)**: This is the assumption that there is no effect or no difference.\n",
        "2. **State the alternative hypothesis (H₁)**: This is the assumption that there is an effect or a difference.\n",
        "3. **Calculate the p-value**: Based on the test statistic (like t, z, or F-statistic).\n",
        "4. **Compare p-value to significance level (α)**: Typically, α = 0.05.\n",
        "   - If **p-value < α**, reject the null hypothesis (strong evidence against H₀).\n",
        "   - If **p-value ≥ α**, fail to reject the null hypothesis (insufficient evidence against H₀).\n",
        "\n",
        "### Small p-value (e.g., 0.01):\n",
        "- A **small p-value** (e.g., **0.01**) means that there is only a 1% chance of observing the data if the null hypothesis is true. This provides strong evidence against the null hypothesis, and we would reject H₀ in favor of the alternative hypothesis.\n"
      ],
      "metadata": {
        "id": "4OwwHNzkms1C"
      }
    },
    {
      "cell_type": "markdown",
      "source": [
        "# Question3: Compare and contrast the binomial and Bernoulli distributions.\n",
        "\n",
        "\n",
        "### 1. **Bernoulli Distribution**:\n",
        "- **Definition**: The Bernoulli distribution models a single trial with only two possible outcomes: success (with probability \\( p \\)) or failure (with probability \\( 1 - p \\)).\n",
        "- **Parameters**: It is defined by one parameter \\( p \\), the probability of success.\n",
        "- **Example**: Flipping a coin once, where the outcome is either heads (success) or tails (failure).\n",
        "  \n",
        "- **Mathematical Representation**:\n",
        "  - For a random variable \\( X \\) following a Bernoulli distribution:\n",
        "$$\n",
        "    P(X = 1) = p \\quad \\text{and} \\quad P(X = 0) = 1 - p\n",
        "$$\n",
        "\n",
        "### 2. **Binomial Distribution**:\n",
        "- **Definition**: The binomial distribution models the number of successes in a fixed number of independent Bernoulli trials, each with the same probability of success.\n",
        "- **Parameters**: It is defined by two parameters:\n",
        "  - \\( n \\): Number of trials,\n",
        "  - \\( p \\): Probability of success in each trial.\n",
        "- **Example**: Flipping a coin 10 times and counting how many heads (successes) occur.\n",
        "\n",
        "- **Mathematical Representation**:\n",
        "  - For a random variable \\( X \\) following a binomial distribution with \\( n \\) trials:\n",
        "    $$\n",
        "    P(X = k) = \\binom{n}{k} p^k (1 - p)^{n - k}\n",
        "    $$\n",
        "    Where \\( k \\) is the number of successes, and \\( \\binom{n}{k} \\) is the binomial coefficient.\n",
        "\n",
        "### 3. **Key Differences**:\n",
        "- **Number of Trials**:\n",
        "  - Bernoulli models **one** trial.\n",
        "  - Binomial models **multiple** trials (i.e., \\( n \\) independent Bernoulli trials).\n",
        "  \n",
        "- **Random Variable**:\n",
        "  - In a Bernoulli distribution, the random variable represents the outcome of a single trial (success or failure).\n",
        "  - In a binomial distribution, the random variable represents the number of successes across multiple trials.\n",
        "\n",
        "### 4. **Relationship**:\n",
        "- A **binomial distribution** is essentially the sum of **independent Bernoulli trials**. If you perform multiple Bernoulli trials and count the number of successes, the result follows a binomial distribution.\n"
      ],
      "metadata": {
        "id": "B3vUXw0Vp4OI"
      }
    },
    {
      "cell_type": "markdown",
      "source": [
        "# **Question 4: Under what conditions is the binomial distribution used, and how does it relate to the Bernoulli distribution?**\n",
        "\n",
        "\n",
        "The **binomial distribution** is used under the following conditions:\n",
        "\n",
        "1. **Fixed Number of Trials**: The experiment consists of a fixed number of independent trials, denoted as \\( n \\).\n",
        "\n",
        "2. **Binary Outcomes**: Each trial has only two possible outcomes, commonly referred to as \"success\" and \"failure.\"\n",
        "\n",
        "3. **Constant Probability**: The probability of success, denoted as \\( p \\), remains constant for each trial. Consequently, the probability of failure is \\( 1 - p \\).\n",
        "\n",
        "4. **Independence**: The trials are independent; the outcome of one trial does not influence the outcomes of other trials.\n",
        "\n",
        "### Relationship with the Bernoulli Distribution\n",
        "\n",
        "- The **Bernoulli distribution** can be seen as a special case of the binomial distribution where the number of trials \\( n = 1 \\).\n",
        "- In other words, a single Bernoulli trial can be viewed as a binomial experiment with one trial.\n",
        "- The parameters of the Bernoulli distribution (success probability \\( p \\)) are the same as the parameters of the binomial distribution, which is used to determine the number of successes across multiple trials.\n",
        "\n",
        "### Conclusion\n",
        "\n",
        "The binomial distribution is a fundamental concept in probability that arises from repeated Bernoulli trials. Understanding the conditions for using the binomial distribution is crucial for effectively applying it in various statistical analyses.\n",
        "\n",
        ""
      ],
      "metadata": {
        "id": "grAnkkBfrGYK"
      }
    },
    {
      "cell_type": "markdown",
      "source": [
        "# **Question5: What are the key properties of the Poisson distribution, and when is it appropriate to use this distribution?**\n",
        "\n",
        "## Poisson Distribution\n",
        "\n",
        "The **Poisson distribution** is a discrete probability distribution that expresses the probability of a given number of events occurring in a fixed interval of time or space, provided that these events happen with a known constant mean rate and independently of the time since the last event.\n",
        "\n",
        "### Key Properties of the Poisson Distribution\n",
        "\n",
        "1. **Discreteness**: The Poisson distribution is discrete, meaning it applies to events that occur in whole numbers (0, 1, 2, ...).\n",
        "\n",
        "2. **Single Parameter**: The Poisson distribution is characterized by a single parameter ( lambda ), which represents both the mean and the variance of the distribution. Specifically:\n",
        "   - The mean number of events \\( E(X) = lambda \\).\n",
        "   - The variance \\( Var(X) = lambda \\).\n",
        "\n",
        "3. **Memorylessness**: The Poisson process is memoryless, meaning that the probability of an event occurring in the future is independent of when the last event occurred.\n",
        "\n",
        "4. **Rare Events**: It is often used to model the number of times an event occurs in a fixed interval when the events are rare compared to the number of opportunities for them to occur.\n",
        "\n",
        "5. **Sum of Independent Poisson Variables**: If ( X_1, X_2, ... , X_n \\) are independent Poisson random variables with parameters \\( lambda_1, lambda_2, ... , lambda_n \\), then the sum \\( X = X_1 + X_2 + ... + X_n \\) is also a Poisson random variable with parameter \\( lambda = lambda_1 + lambda_2 + ... + lambda_n \\).\n",
        "\n",
        "### When to Use the Poisson Distribution\n",
        "\n",
        "The Poisson distribution is appropriate to use under the following conditions:\n",
        "\n",
        "1. **Event Count**: You are counting the number of events occurring in a fixed interval of time or space.\n",
        "\n",
        "2. **Independence**: The events occur independently of one another.\n",
        "\n",
        "3. **Constant Mean Rate**: The average rate (mean) of occurrence \\( \\lambda \\) is constant throughout the interval.\n",
        "\n",
        "4. **Rare Events**: The events are relatively rare compared to the total number of opportunities for them to occur.\n",
        "\n",
        "### Examples of Poisson Distribution Usage\n",
        "\n",
        "- The number of emails received in an hour.\n",
        "- The number of cars passing through a toll booth in a day.\n",
        "- The number of phone calls received by a call center in a minute.\n",
        "\n",
        "### Conclusion\n",
        "\n",
        "Understanding the key properties of the Poisson distribution and its appropriate use cases is essential for effectively applying this distribution in statistical analyses, especially in fields such as operations research, telecommunications, and queuing theory.\n"
      ],
      "metadata": {
        "id": "12wTXF3Frpys"
      }
    },
    {
      "cell_type": "markdown",
      "source": [
        "# **Question6: Define the terms \"probability distribution\" and \"probability density function\" (PDF). How does a PDF differ from a probability mass function (PMF)?**\n",
        "\n",
        "## Probability Distribution and Probability Density Function (PDF)\n",
        "\n",
        "### Probability Distribution\n",
        "\n",
        "A **probability distribution** describes how the probabilities of a random variable are distributed across its possible values. It provides a comprehensive description of the likelihood of all possible outcomes of a random variable. Probability distributions can be classified into two main types:\n",
        "\n",
        "1. **Discrete Probability Distribution**: This applies to discrete random variables, which can take on a countable number of distinct values. For example, the outcome of rolling a die (1, 2, 3, 4, 5, 6) follows a discrete probability distribution.\n",
        "\n",
        "2. **Continuous Probability Distribution**: This applies to continuous random variables, which can take on an infinite number of values within a given range. For example, the height of individuals or the time taken to complete a task follows a continuous probability distribution.\n",
        "\n",
        "### Probability Density Function (PDF)\n",
        "\n",
        "A **probability density function (PDF)** is a function that describes the likelihood of a continuous random variable taking on a specific value. The PDF is defined such that the area under the curve of the PDF over a specified interval represents the probability of the random variable falling within that interval. Mathematically, for a continuous random variable \\(X\\):\n",
        "\n",
        "$$\n",
        "P(a < X < b) = \\int_{a}^{b} f(x) \\, dx\n",
        "$$\n",
        "\n",
        "Where:\n",
        "- \\(f(x)\\) is the PDF of the random variable \\(X\\).\n",
        "- The integral calculates the area under the curve between the values \\(a\\) and \\(b\\).\n",
        "\n",
        "### Probability Mass Function (PMF)\n",
        "\n",
        "A **probability mass function (PMF)** is a function that gives the probability that a discrete random variable is equal to a specific value. For a discrete random variable \\(X\\), the PMF \\(P(X = x)\\) is defined as:\n",
        "\n",
        "$$\n",
        "P(X = x) = p(x)\n",
        "$$\n",
        "\n",
        "Where:\n",
        "- \\(p(x)\\) represents the probability of the random variable \\(X\\) taking on the value \\(x\\).\n",
        "\n",
        "### Key Differences Between PDF and PMF\n",
        "\n",
        "- **Type of Random Variable**:\n",
        "  - **PDF**: Used for continuous random variables.\n",
        "  - **PMF**: Used for discrete random variables.\n",
        "\n",
        "- **Probability Representation**:\n",
        "  - **PDF**: Represents probabilities as areas under the curve, and the total area under the PDF must equal 1.\n",
        "  - **PMF**: Represents probabilities as specific values at distinct points, and the sum of probabilities for all possible outcomes must equal 1.\n",
        "\n",
        "- **Function Behavior**:\n",
        "  - **PDF**: Can take on values greater than 1, as long as the area under the curve sums to 1.\n",
        "  - **PMF**: Must always yield values between 0 and 1.\n",
        "\n",
        "### Conclusion\n",
        "\n",
        "Understanding the distinctions between probability distributions, PDFs, and PMFs is crucial for correctly analyzing and interpreting the behavior of random variables in statistics and probability theory.\n"
      ],
      "metadata": {
        "id": "Rv1kBnyStVDv"
      }
    },
    {
      "cell_type": "markdown",
      "source": [
        "# **Question7: Explain the Central Limit Theorem (CLT) with example**\n",
        "\n",
        "## Central Limit Theorem (CLT)\n",
        "\n",
        "The **Central Limit Theorem (CLT)** is a fundamental theorem in statistics that states that the distribution of the sample means will approach a normal distribution as the sample size increases, regardless of the original distribution of the population, provided the samples are independent and identically distributed (i.i.d.).\n",
        "\n",
        "### Key Points of the Central Limit Theorem\n",
        "\n",
        "1. **Sample Means**: The CLT applies to the means of samples drawn from a population. If you take multiple random samples from any population and calculate their means, the distribution of these means will approximate a normal distribution.\n",
        "\n",
        "2. **Sample Size**: The larger the sample size, the closer the distribution of the sample means will be to a normal distribution. Generally, a sample size of 30 or more is considered sufficient for the CLT to hold.\n",
        "\n",
        "3. **Independence**: The samples must be independent of each other, meaning the selection of one sample does not affect the others.\n",
        "\n",
        "### Example\n",
        "\n",
        "**Scenario**: Suppose you have a population of students with varying exam scores that are not normally distributed. The scores range from 0 to 100, with a mean score of 70 and a standard deviation of 15.\n",
        "\n",
        "1. **Take Random Samples**: Let’s say you take multiple samples of size 30 from this population and calculate the mean for each sample.\n",
        "\n",
        "2. **Distributions of Sample Means**: According to the CLT, as you continue to draw samples and calculate their means, the distribution of these means will begin to resemble a normal distribution, even though the original population distribution of scores is not normal.\n",
        "\n",
        "3. **Visualizing the CLT**: If you were to plot the histogram of the sample means after taking many samples, you would see a bell-shaped curve (normal distribution) centered around the population mean (70).\n",
        "\n",
        "\n"
      ],
      "metadata": {
        "id": "Laxu-4xPuabD"
      }
    },
    {
      "cell_type": "code",
      "source": [
        "import numpy as np\n",
        "import matplotlib.pyplot as plt\n",
        "import seaborn as sns\n",
        "\n",
        "np.random.seed(42)\n",
        "\n",
        "# Population\n",
        "population_mean = 70\n",
        "population_std = 15\n",
        "population_size = 10000\n",
        "\n",
        "# Generate a non-normal population (uniform distribution for this example)\n",
        "population = np.random.uniform(low=0, high=100, size=population_size)\n",
        "\n",
        "# Take samples and calculate sample means\n",
        "sample_size = 30\n",
        "n_samples = 1000\n",
        "sample_means = [np.mean(np.random.choice(population, size=sample_size)) for _ in range(n_samples)]\n",
        "\n",
        "# Plotting the distribution of sample means\n",
        "plt.figure(figsize=(12, 6))\n",
        "sns.histplot(sample_means, bins=30, kde=True)\n",
        "plt.title('Distribution of Sample Means (CLT Illustration)')\n",
        "plt.xlabel('Sample Means')\n",
        "plt.ylabel('Frequency')\n",
        "plt.axvline(population_mean, color='red', linestyle='dashed', linewidth=2, label='Population Mean')\n",
        "plt.legend()\n",
        "plt.show()"
      ],
      "metadata": {
        "colab": {
          "base_uri": "https://localhost:8080/",
          "height": 515
        },
        "id": "0Q_3kRaivNyP",
        "outputId": "5ad7b0ab-98ec-49bb-f467-b53191dd9f33"
      },
      "execution_count": 1,
      "outputs": [
        {
          "output_type": "display_data",
          "data": {
            "text/plain": [
              "<Figure size 1200x600 with 1 Axes>"
            ],
            "image/png": "[encoded data removed]"
          },
          "metadata": {}
        }
      ]
    },
    {
      "cell_type": "markdown",
      "source": [
        "# **Question8: Compare z-scores and t-scores. When should you use a z-score, and when should a t-score be a pplied instead?**\n",
        "\n",
        "# Comparison of Z-Scores and T-Scores\n",
        "\n",
        "## Z-Scores\n",
        "- A **z-score** indicates how many standard deviations an individual data point is from the mean of a dataset.\n",
        "- It is calculated using the formula:\n",
        "  $$\n",
        "  z = \\frac{(X - \\mu)}{\\sigma}\n",
        "  $$\n",
        "  Where:\n",
        "  - \\( X \\) is the value of the data point,\n",
        "  - \\( \\mu \\) is the mean of the population,\n",
        "  - \\( \\sigma \\) is the standard deviation of the population.\n",
        "- **When to Use**:\n",
        "  - Use a z-score when the population standard deviation is known.\n",
        "  - It is typically used when the sample size is large (usually \\( n > 30 \\)), as the Central Limit Theorem ensures that the sampling distribution of the mean will be approximately normal.\n",
        "\n",
        "## T-Scores\n",
        "- A **t-score** also indicates how many standard deviations an individual data point is from the sample mean but accounts for the uncertainty in estimating the population standard deviation from a small sample.\n",
        "- It is calculated using the formula:\n",
        "  $$\n",
        "  t = \\frac{(X - \\bar{X})}{(s / \\sqrt{n})}\n",
        "  $$\n",
        "  Where:\n",
        "  - \\( X \\) is the value of the data point,\n",
        "  - \\( \\bar{X} \\) is the sample mean,\n",
        "  - \\( s \\) is the sample standard deviation,\n",
        "  - \\( n \\) is the sample size.\n",
        "- **When to Use**:\n",
        "  - Use a t-score when the population standard deviation is unknown, and the sample size is small (typically \\( n < 30 \\)).\n",
        "  - It is particularly useful in hypothesis testing and constructing confidence intervals for small samples.\n",
        "\n",
        "## Key Differences\n",
        "1. **Population Standard Deviation**:\n",
        "   - Z-scores are used when the population standard deviation is known.\n",
        "   - T-scores are used when the population standard deviation is unknown.\n",
        "\n",
        "2. **Sample Size**:\n",
        "   - Z-scores are appropriate for large sample sizes.\n",
        "   - T-scores are appropriate for small sample sizes.\n",
        "\n",
        "3. **Distribution**:\n",
        "   - Z-scores follow a standard normal distribution.\n",
        "   - T-scores follow a t-distribution, which is broader and has heavier tails, allowing for more variability in smaller samples.\n",
        "\n",
        "## Conclusion\n",
        "In summary, the choice between using a z-score and a t-score primarily depends on the sample size and whether the population standard deviation is known. For larger samples or known population standard deviations, use z-scores; for smaller samples or unknown population standard deviations, use t-scores.\n",
        "\n"
      ],
      "metadata": {
        "id": "ysrLkYMrybNs"
      }
    },
    {
      "cell_type": "markdown",
      "source": [
        "# **Question9: Given a sample mean of 105, a population mean of 100, a standard deviation of 15, and a sample size of 25, calculate the z-score and p-value. Based on a significance level of 0.05, do you reject or fail to rejectthe null hypothesis?**\n",
        "\n",
        " Task: Write Python code to calculate the z-score and p-value for the given data.\n",
        "\n",
        " Objective: Apply the formula for the z-score and interpret the p-value for hypothesis testing"
      ],
      "metadata": {
        "id": "3nfUq3uKzOg7"
      }
    },
    {
      "cell_type": "code",
      "source": [
        "import numpy as np\n",
        "from scipy import stats\n",
        "\n",
        "sample_mean = 105\n",
        "population_mean = 100\n",
        "std_dev = 15\n",
        "sample_size = 25\n",
        "alpha = 0.05\n",
        "\n",
        "z_score = (sample_mean - population_mean) / (std_dev / np.sqrt(sample_size))\n",
        "\n",
        "p_value = 1 - stats.norm.cdf(z_score)\n",
        "\n",
        "print(f\"Z-Score: {z_score:.2f}\")\n",
        "print(f\"P-Value: {p_value:.4f}\")\n",
        "\n",
        "if p_value < alpha:\n",
        "   print(\"Reject the null hypothesis.\")\n",
        "else:\n",
        "    print(\"Fail to Reject the null hypothesis.\")\n",
        "\n"
      ],
      "metadata": {
        "colab": {
          "base_uri": "https://localhost:8080/"
        },
        "id": "-tX6Ajjl0sBd",
        "outputId": "05bf1119-3d7e-42b8-fee5-86f8691f1fdb"
      },
      "execution_count": 3,
      "outputs": [
        {
          "output_type": "stream",
          "name": "stdout",
          "text": [
            "Z-Score: 1.67\n",
            "P-Value: 0.0478\n",
            "Reject the null hypothesis.\n"
          ]
        }
      ]
    },
    {
      "cell_type": "markdown",
      "source": [
        "# **Question10: Simulate a binomial distribution with 10 trials and a probability of success of 0.6 using Python.**\n",
        "# **Generate 1,000 samples and plot the distribution. What is the expected mean and variance?**\n",
        " Task: Use Python to generate the data, plot the distribution, and calculate the mean and variance.\n",
        "\n",
        " Objective: Understand the properties of a binomial distribution and verify them through simulation"
      ],
      "metadata": {
        "id": "SywRxWVw2M_X"
      }
    },
    {
      "cell_type": "code",
      "source": [
        "import numpy as np\n",
        "import matplotlib.pyplot as plt\n",
        "\n",
        "\n",
        "n = 10\n",
        "p = 0.6\n",
        "num_samples = 1000\n",
        "\n",
        "samples = np.random.binomial(n, p, num_samples)\n",
        "\n",
        "mean = np.mean(samples)\n",
        "variance = np.var(samples)\n",
        "\n",
        "expected_mean = n * p\n",
        "expected_variance = n * p * (1 - p)\n",
        "\n",
        "print(f\"Calculated Mean: {mean:.2f}, Expected Mean: {expected_mean:.2f}\")\n",
        "print(f\"Calculated Variance: {variance:.2f}, Expected Variance: {expected_variance:.2f}\")\n",
        "\n",
        "plt.hist(samples, bins=np.arange(0, n + 1) - 0.5, density=True, alpha=0.6, color='blue')\n",
        "plt.xticks(range(n + 1))\n",
        "plt.title('Binomial Distribution (n=10, p=0.6)')\n",
        "plt.xlabel('Number of Successes')\n",
        "plt.ylabel('Probability')\n",
        "plt.grid(axis='y', alpha=0.75)\n",
        "\n",
        "plt.show()\n"
      ],
      "metadata": {
        "colab": {
          "base_uri": "https://localhost:8080/",
          "height": 507
        },
        "id": "tR4WuUQh3I3C",
        "outputId": "b4b711db-8261-4317-d345-230fbaf48d40"
      },
      "execution_count": 4,
      "outputs": [
        {
          "output_type": "stream",
          "name": "stdout",
          "text": [
            "Calculated Mean: 6.03, Expected Mean: 6.00\n",
            "Calculated Variance: 2.39, Expected Variance: 2.40\n"
          ]
        },
        {
          "output_type": "display_data",
          "data": {
            "text/plain": [
              "<Figure size 640x480 with 1 Axes>"
            ],
            "image/png": "[encoded data removed]"
          },
          "metadata": {}
        }
      ]
    }
  ]
}